{
 "cells": [
  {
   "cell_type": "markdown",
   "id": "e2541580-ea94-478e-aaf9-3ab73792c3cb",
   "metadata": {},
   "source": [
    "## 1. Import Necessary Libraries"
   ]
  },
  {
   "cell_type": "code",
   "execution_count": 22,
   "id": "41e324b4-23ee-4b48-a95b-1513329d098c",
   "metadata": {},
   "outputs": [],
   "source": [
    "import pandas as pd                # For data manipulation\n",
    "import numpy as np                 # For numerical operations\n",
    "import matplotlib.pyplot as plt    # For data visualization\n",
    "from sklearn.model_selection import train_test_split  # To split data into training and testing\n",
    "from sklearn.linear_model import LinearRegression      # The linear regression model\n",
    "from sklearn.metrics import mean_squared_error, r2_score, mean_absolute_error  # Evaluation metrics"
   ]
  },
  {
   "cell_type": "markdown",
   "id": "88fc2294-1794-457b-aefb-be6a811fb783",
   "metadata": {},
   "source": [
    "## 2. Load the Dataset"
   ]
  },
  {
   "cell_type": "code",
   "execution_count": 2,
   "id": "cd86e0f7-95bd-4851-ad2b-f2831ac14d00",
   "metadata": {},
   "outputs": [
    {
     "name": "stdout",
     "output_type": "stream",
     "text": [
      "   YearsExperience   Salary\n",
      "0              1.1  39343.0\n",
      "1              1.3  46205.0\n",
      "2              1.5  37731.0\n",
      "3              2.0  43525.0\n",
      "4              2.2  39891.0\n"
     ]
    }
   ],
   "source": [
    "# Load data from CSV\n",
    "df = pd.read_csv(\"Salary_Data.csv\")  # Make sure the file is in your working directory\n",
    "\n",
    "# Display the first few rows\n",
    "print(df.head())\n"
   ]
  },
  {
   "cell_type": "code",
   "execution_count": 3,
   "id": "dbafa2d0-b55f-4737-ac34-df772491bbb1",
   "metadata": {},
   "outputs": [
    {
     "name": "stdout",
     "output_type": "stream",
     "text": [
      "    YearsExperience    Salary\n",
      "0               1.1   39343.0\n",
      "1               1.3   46205.0\n",
      "2               1.5   37731.0\n",
      "3               2.0   43525.0\n",
      "4               2.2   39891.0\n",
      "5               2.9   56642.0\n",
      "6               3.0   60150.0\n",
      "7               3.2   54445.0\n",
      "8               3.2   64445.0\n",
      "9               3.7   57189.0\n",
      "10              3.9   63218.0\n",
      "11              4.0   55794.0\n",
      "12              4.0   56957.0\n",
      "13              4.1   57081.0\n",
      "14              4.5   61111.0\n",
      "15              4.9   67938.0\n",
      "16              5.1   66029.0\n",
      "17              5.3   83088.0\n",
      "18              5.9   81363.0\n",
      "19              6.0   93940.0\n",
      "20              6.8   91738.0\n",
      "21              7.1   98273.0\n",
      "22              7.9  101302.0\n",
      "23              8.2  113812.0\n",
      "24              8.7  109431.0\n",
      "25              9.0  105582.0\n",
      "26              9.5  116969.0\n",
      "27              9.6  112635.0\n",
      "28             10.3  122391.0\n",
      "29             10.5  121872.0\n"
     ]
    }
   ],
   "source": [
    "print(df)"
   ]
  },
  {
   "cell_type": "markdown",
   "id": "ea4166d9-73f1-41bc-8ffc-7ccab2b1a0be",
   "metadata": {},
   "source": [
    "## 3. Visualize the Data"
   ]
  },
  {
   "cell_type": "code",
   "execution_count": 4,
   "id": "519e1a1f-44b3-44fc-9ab3-9b69ac7893ba",
   "metadata": {},
   "outputs": [
    {
     "data": {
      "image/png": "[encoded data removed]",
      "text/plain": [
       "<Figure size 640x480 with 1 Axes>"
      ]
     },
     "metadata": {},
     "output_type": "display_data"
    }
   ],
   "source": [
    "# Scatter plot of the data\n",
    "plt.scatter(df['YearsExperience'], df['Salary'], marker='+', color='red')\n",
    "plt.title(\"Salary vs Experience\")\n",
    "plt.xlabel(\"Years of Experience\")\n",
    "plt.ylabel(\"Salary\")\n",
    "# plt.grid(True)\n",
    "plt.show()\n"
   ]
  },
  {
   "cell_type": "markdown",
   "id": "7a6e1e6f-272a-4b7d-b7f2-51358f0b2e5f",
   "metadata": {},
   "source": [
    "## 4. Data Preparation"
   ]
  },
  {
   "cell_type": "code",
   "execution_count": 5,
   "id": "1c0103d5-9237-40e7-b141-e05ca5f05e20",
   "metadata": {},
   "outputs": [],
   "source": [
    "# Independent variable (X) and dependent variable (y)\n",
    "X = df[['YearsExperience']]   # 2D array\n",
    "y = df['Salary']              # 1D array\n"
   ]
  },
  {
   "cell_type": "code",
   "execution_count": 6,
   "id": "01e379d7-2fd4-442a-8ac8-11c56277e2fd",
   "metadata": {},
   "outputs": [
    {
     "data": {
      "text/plain": [
       "(30, 1)"
      ]
     },
     "execution_count": 6,
     "metadata": {},
     "output_type": "execute_result"
    }
   ],
   "source": [
    "X.shape"
   ]
  },
  {
   "cell_type": "code",
   "execution_count": 7,
   "id": "b367f17f-4b33-4931-bfa8-22c054d1c3d7",
   "metadata": {},
   "outputs": [
    {
     "data": {
      "text/plain": [
       "(30,)"
      ]
     },
     "execution_count": 7,
     "metadata": {},
     "output_type": "execute_result"
    }
   ],
   "source": [
    "y.shape"
   ]
  },
  {
   "cell_type": "markdown",
   "id": "07e2af63-d092-43b4-8230-20f8a026e4b2",
   "metadata": {},
   "source": [
    "## 5. Split the Dataset"
   ]
  },
  {
   "cell_type": "code",
   "execution_count": 8,
   "id": "d1aa8bc9-091f-4c06-bef6-a1a4466df230",
   "metadata": {},
   "outputs": [
    {
     "name": "stdout",
     "output_type": "stream",
     "text": [
      "Training samples: 27\n",
      "Testing samples: 3\n"
     ]
    }
   ],
   "source": [
    "# Splitting into 80% training and 20% testing\n",
    "X_train, X_test, y_train, y_test = train_test_split(X, y, test_size=0.1, random_state=42)\n",
    "\n",
    "print(\"Training samples:\", len(X_train))\n",
    "print(\"Testing samples:\", len(X_test))\n"
   ]
  },
  {
   "cell_type": "code",
   "execution_count": 9,
   "id": "037f5b9e-f28b-4859-ab1b-e17c885d375e",
   "metadata": {},
   "outputs": [
    {
     "data": {
      "text/plain": [
       "(27, 1)"
      ]
     },
     "execution_count": 9,
     "metadata": {},
     "output_type": "execute_result"
    }
   ],
   "source": [
    "X_train.shape"
   ]
  },
  {
   "cell_type": "code",
   "execution_count": 10,
   "id": "727fd670-b9bc-4040-81ad-a842d48bd0cb",
   "metadata": {},
   "outputs": [
    {
     "data": {
      "text/plain": [
       "(27,)"
      ]
     },
     "execution_count": 10,
     "metadata": {},
     "output_type": "execute_result"
    }
   ],
   "source": [
    "y_train.shape"
   ]
  },
  {
   "cell_type": "code",
   "execution_count": 11,
   "id": "54262a33-7958-41fd-a5ee-b09e06a2e215",
   "metadata": {},
   "outputs": [
    {
     "data": {
      "text/html": [
       "<div>\n",
       "<style scoped>\n",
       "    .dataframe tbody tr th:only-of-type {\n",
       "        vertical-align: middle;\n",
       "    }\n",
       "\n",
       "    .dataframe tbody tr th {\n",
       "        vertical-align: top;\n",
       "    }\n",
       "\n",
       "    .dataframe thead th {\n",
       "        text-align: right;\n",
       "    }\n",
       "</style>\n",
       "<table border=\"1\" class=\"dataframe\">\n",
       "  <thead>\n",
       "    <tr style=\"text-align: right;\">\n",
       "      <th></th>\n",
       "      <th>YearsExperience</th>\n",
       "    </tr>\n",
       "  </thead>\n",
       "  <tbody>\n",
       "    <tr>\n",
       "      <th>17</th>\n",
       "      <td>5.3</td>\n",
       "    </tr>\n",
       "    <tr>\n",
       "      <th>8</th>\n",
       "      <td>3.2</td>\n",
       "    </tr>\n",
       "    <tr>\n",
       "      <th>9</th>\n",
       "      <td>3.7</td>\n",
       "    </tr>\n",
       "    <tr>\n",
       "      <th>28</th>\n",
       "      <td>10.3</td>\n",
       "    </tr>\n",
       "    <tr>\n",
       "      <th>24</th>\n",
       "      <td>8.7</td>\n",
       "    </tr>\n",
       "  </tbody>\n",
       "</table>\n",
       "</div>"
      ],
      "text/plain": [
       "    YearsExperience\n",
       "17              5.3\n",
       "8               3.2\n",
       "9               3.7\n",
       "28             10.3\n",
       "24              8.7"
      ]
     },
     "execution_count": 11,
     "metadata": {},
     "output_type": "execute_result"
    }
   ],
   "source": [
    "X_train[0:5]"
   ]
  },
  {
   "cell_type": "code",
   "execution_count": 12,
   "id": "fa749c52-c787-418f-b12a-b6c3b4308099",
   "metadata": {},
   "outputs": [],
   "source": [
    "# df_test=pd.DataFrame(X_train, y_train)"
   ]
  },
  {
   "cell_type": "code",
   "execution_count": 13,
   "id": "1e11084d-23e2-4429-950a-529f169bb4bb",
   "metadata": {},
   "outputs": [],
   "source": [
    "# df_test.head()"
   ]
  },
  {
   "cell_type": "markdown",
   "id": "06d3dd66-4641-4af3-b165-389fd49fdf91",
   "metadata": {},
   "source": [
    "## 6. Train the Linear Regression Model"
   ]
  },
  {
   "cell_type": "code",
   "execution_count": 14,
   "id": "e8fa0f0b-d9c9-4bb1-a848-0a7846da327d",
   "metadata": {},
   "outputs": [
    {
     "name": "stdout",
     "output_type": "stream",
     "text": [
      "Intercept (b0): 26098.018402613416\n",
      "Slope (b1): 9371.313117259971\n"
     ]
    }
   ],
   "source": [
    "# Create and train the model\n",
    "model = LinearRegression()\n",
    "model.fit(X_train, y_train)\n",
    "\n",
    "# Print the learned coefficients\n",
    "print(\"Intercept (b0):\", model.intercept_)\n",
    "print(\"Slope (b1):\", model.coef_[0])"
   ]
  },
  {
   "cell_type": "markdown",
   "id": "9926c605-b98f-4c47-b6e8-276e37cb1596",
   "metadata": {},
   "source": [
    "### Equation learned by model:\n",
    "\n",
    "Salary = 𝑏0 + 𝑏1.YearsExperience\n"
   ]
  },
  {
   "cell_type": "code",
   "execution_count": 15,
   "id": "04b9463f-1045-4cb8-9020-4c7eed8b52c0",
   "metadata": {},
   "outputs": [
    {
     "data": {
      "text/plain": [
       "array([9371.31311726])"
      ]
     },
     "execution_count": 15,
     "metadata": {},
     "output_type": "execute_result"
    }
   ],
   "source": [
    "model.coef_"
   ]
  },
  {
   "cell_type": "code",
   "execution_count": 16,
   "id": "e2dd9e57-0e29-4433-a269-9e8e775f1eda",
   "metadata": {},
   "outputs": [
    {
     "data": {
      "text/plain": [
       "26098.018402613416"
      ]
     },
     "execution_count": 16,
     "metadata": {},
     "output_type": "execute_result"
    }
   ],
   "source": [
    "model.intercept_"
   ]
  },
  {
   "cell_type": "markdown",
   "id": "31da542a-54f7-4dcc-8ec7-bdcbe1277b2f",
   "metadata": {},
   "source": [
    "## 7. Make Predictions"
   ]
  },
  {
   "cell_type": "code",
   "execution_count": 17,
   "id": "31ddfbad-2934-40eb-bac9-8280d1815796",
   "metadata": {},
   "outputs": [
    {
     "name": "stdout",
     "output_type": "stream",
     "text": [
      "      Actual      Predicted\n",
      "27  112635.0  116062.624328\n",
      "15   67938.0   72017.452677\n",
      "23  113812.0  102942.785964\n"
     ]
    }
   ],
   "source": [
    "# Predict salaries for the test set\n",
    "y_pred = model.predict(X_test)\n",
    "\n",
    "# Compare actual vs predicted\n",
    "comparison = pd.DataFrame({'Actual': y_test, 'Predicted': y_pred})\n",
    "print(comparison)\n"
   ]
  },
  {
   "cell_type": "markdown",
   "id": "9064bd37-419d-42c1-a28d-0ba6d16006c3",
   "metadata": {},
   "source": [
    "## 8. Evaluate the Model"
   ]
  },
  {
   "cell_type": "code",
   "execution_count": 24,
   "id": "174ef498-8d71-44d3-bc3b-d1b5e8dfc537",
   "metadata": {},
   "outputs": [
    {
     "name": "stdout",
     "output_type": "stream",
     "text": [
      "Mean Squared Error: 48843452.14621687\n",
      "R² Score: 0.8928775350863083\n",
      "Mean Absolute Error: 6125.4303471170815\n"
     ]
    }
   ],
   "source": [
    "# Mean Squared Error\n",
    "mse = mean_squared_error(y_test, y_pred)\n",
    "r2 = r2_score(y_test, y_pred)\n",
    "mae = mean_absolute_error(y_test, y_pred)\n",
    "\n",
    "print(\"Mean Squared Error:\", mse)\n",
    "print(\"R² Score:\", r2)\n",
    "print(\"Mean Absolute Error:\", mae)\n"
   ]
  },
  {
   "cell_type": "markdown",
   "id": "f4dc463e-a60e-4d26-ae66-18b7e4636a36",
   "metadata": {},
   "source": [
    "### MSE: Lower is better\n",
    "\n",
    "### R² Score: Closer to 1 means better fit"
   ]
  },
  {
   "cell_type": "code",
   "execution_count": 19,
   "id": "a87da423-39fc-41cd-b4d3-2dd4d91795ef",
   "metadata": {},
   "outputs": [
    {
     "name": "stdout",
     "output_type": "stream",
     "text": [
      "Mean Squared Error: 48843452.15\n",
      "R-squared Score: 0.89\n",
      "Model Coefficient: 9371.31\n",
      "Model Intercept: 26098.02\n"
     ]
    }
   ],
   "source": [
    "print(f\"Mean Squared Error: {mse:.2f}\")\n",
    "print(f\"R-squared Score: {r2:.2f}\")\n",
    "print(f\"Model Coefficient: {model.coef_[0]:.2f}\")\n",
    "print(f\"Model Intercept: {model.intercept_:.2f}\")"
   ]
  },
  {
   "cell_type": "markdown",
   "id": "706fc53e-4465-4d95-b942-b0c64c6b36d7",
   "metadata": {},
   "source": [
    "## 9. Plot the Regression Line"
   ]
  },
  {
   "cell_type": "code",
   "execution_count": 20,
   "id": "0b5f8197-71fa-42ec-9499-92f432c15e20",
   "metadata": {},
   "outputs": [
    {
     "data": {
      "image/png": "[encoded data removed]",
      "text/plain": [
       "<Figure size 640x480 with 1 Axes>"
      ]
     },
     "metadata": {},
     "output_type": "display_data"
    }
   ],
   "source": [
    "# Plot the training data and regression line\n",
    "plt.scatter(X_train, y_train, color='blue',marker=\"*\", label='Training data')\n",
    "plt.plot(X_train, model.predict(X_train), color='red', linewidth=1, label='Regression line')\n",
    "plt.xlabel(\"Years of Experience\")\n",
    "plt.ylabel(\"Salary\")\n",
    "plt.title(\"Linear Regression Fit\")\n",
    "plt.legend()\n",
    "# plt.grid(True)\n",
    "plt.show()\n"
   ]
  },
  {
   "cell_type": "markdown",
   "id": "d0964922-ac18-4f54-bc39-b850a4e27ee0",
   "metadata": {},
   "source": [
    "## 10. Try Predicting a New Value"
   ]
  },
  {
   "cell_type": "code",
   "execution_count": 21,
   "id": "4542a288-8314-4687-ad00-a071c0347bba",
   "metadata": {},
   "outputs": [
    {
     "name": "stdout",
     "output_type": "stream",
     "text": [
      "Predicted Salary for 5 years of experience: Rs 26098.02\n"
     ]
    }
   ],
   "source": [
    "# # Predict salary for 5 years of experience\n",
    "experience = pd.DataFrame({\"YearsExperience\": [0]})\n",
    "predicted_salary = model.predict(experience)\n",
    "print(f\"Predicted Salary for 5 years of experience: Rs {predicted_salary[0]:.2f}\")"
   ]
  },
  {
   "cell_type": "code",
   "execution_count": null,
   "id": "49af7659-659c-4b28-b0e6-d8b0a80e7e65",
   "metadata": {},
   "outputs": [],
   "source": []
  },
  {
   "cell_type": "code",
   "execution_count": null,
   "id": "4394c2cc-92e6-44e3-9265-1e6fcff9ce64",
   "metadata": {},
   "outputs": [],
   "source": []
  }
 ],
 "metadata": {
  "kernelspec": {
   "display_name": "Python 3 (ipykernel)",
   "language": "python",
   "name": "python3"
  },
  "language_info": {
   "codemirror_mode": {
    "name": "ipython",
    "version": 3
   },
   "file_extension": ".py",
   "mimetype": "text/x-python",
   "name": "python",
   "nbconvert_exporter": "python",
   "pygments_lexer": "ipython3",
   "version": "3.11.4"
  }
 },
 "nbformat": 4,
 "nbformat_minor": 5
}
